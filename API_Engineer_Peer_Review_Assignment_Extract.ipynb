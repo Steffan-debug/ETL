{
 "cells": [
  {
   "cell_type": "markdown",
   "metadata": {},
   "source": [
    "<p style=\"text-align:center\">\n",
    "    <a href=\"https://skills.network/?utm_medium=Exinfluencer&utm_source=Exinfluencer&utm_content=000026UJ&utm_term=10006555&utm_id=NA-SkillsNetwork-Channel-SkillsNetworkCoursesIBMDeveloperSkillsNetworkPY0221ENSkillsNetwork23455645-2022-01-01\" target=\"_blank\">\n",
    "    <img src=\"https://cf-courses-data.s3.us.cloud-object-storage.appdomain.cloud/assets/logos/SN_web_lightmode.png\" width=\"200\" alt=\"Skills Network Logo\"  />\n",
    "    </a>\n",
    "</p>\n"
   ]
  },
  {
   "cell_type": "markdown",
   "metadata": {},
   "source": [
    "# Peer Review Assignment - Data Engineer - Extract API Data\n"
   ]
  },
  {
   "cell_type": "markdown",
   "metadata": {},
   "source": [
    "Estimated time needed: **20** minutes\n"
   ]
  },
  {
   "cell_type": "markdown",
   "metadata": {},
   "source": [
    "## Objectives\n",
    "\n",
    "In this part you will:\n",
    "\n",
    "*   Collect exchange rate data using an API\n",
    "*   Store the data as a CSV\n"
   ]
  },
  {
   "cell_type": "markdown",
   "metadata": {},
   "source": [
    "For this lab, we are going to be using Python and several Python libraries. Some of these libraries might be installed in your lab environment or in SN Labs. Others may need to be installed by you. The cells below will install these libraries when executed.\n"
   ]
  },
  {
   "cell_type": "code",
   "execution_count": 1,
   "metadata": {},
   "outputs": [],
   "source": [
    "#!pip install pandas\n",
    "#!pip install requests"
   ]
  },
  {
   "cell_type": "markdown",
   "metadata": {},
   "source": [
    "## Imports\n",
    "\n",
    "Import any additional libraries you may need here.\n"
   ]
  },
  {
   "cell_type": "code",
   "execution_count": 2,
   "metadata": {},
   "outputs": [],
   "source": [
    "import requests\n",
    "import pandas as pd\n",
    "import json"
   ]
  },
  {
   "cell_type": "markdown",
   "metadata": {},
   "source": [
    "## Extract Data Using an API\n"
   ]
  },
  {
   "cell_type": "markdown",
   "metadata": {},
   "source": [
    "Using ExchangeRate-API we will extract currency exchange rate data. Use the below steps to get the access key and to get the data.\n",
    "\n",
    "1.  Open the url : [https://exchangeratesapi.io/](https://exchangeratesapi.io/?utm_medium=Exinfluencer&utm_source=Exinfluencer&utm_content=000026UJ&utm_term=10006555&utm_id=NA-SkillsNetwork-Channel-SkillsNetworkCoursesIBMDeveloperSkillsNetworkPY0221ENSkillsNetwork23455645-2022-01-01) and click on **Get Free API Key**.\n",
    "2.  Subscribe for Free plan and Sign-in with the Google Account.\n",
    "3.  Once the account is created you will be redirected to [https://apilayer.com](https://apilayer.com/?utm_medium=Exinfluencer&utm_source=Exinfluencer&utm_content=000026UJ&utm_term=10006555&utm_id=NA-SkillsNetwork-Channel-SkillsNetworkCoursesIBMDeveloperSkillsNetworkPY0221ENSkillsNetwork23455645-2022-01-01) website.\n",
    "4.  Now, click on the **user icon** and click **Account** as shown below:\n",
    "\n",
    "<img src=\"https://cf-courses-data.s3.us.cloud-object-storage.appdomain.cloud/IBMDeveloperSkillsNetwork-PY0221EN-SkillsNetwork/labs/module%206/Final%20Assignment/Images/account.png\"/>\n",
    "\n",
    "3.  Scroll down and you will get the API Key section. Copy the API key and use in the url in Question 1.\n"
   ]
  },
  {
   "cell_type": "markdown",
   "metadata": {},
   "source": [
    "### Call the API\n",
    "\n",
    "<b> Question 1</b> Using the `requests` library call the endpoint given above and save the text, remember the first few characters of the output:\n"
   ]
  },
  {
   "cell_type": "code",
   "execution_count": 3,
   "metadata": {},
   "outputs": [
    {
     "name": "stdout",
     "output_type": "stream",
     "text": [
      "['        \"AED\": 3.995326,', '        \"AFN\": 96.713864,', '        \"ALL\": 116.851383,', '        \"AMD\": 431.011283,', '        \"ANG\": 1.960098,', '        \"AOA\": 547.735696,', '        \"ARS\": 199.161536,', '        \"AUD\": 1.562412,', '        \"AWG\": 1.957904,', '        \"AZN\": 1.85345,', '        \"BAM\": 1.964934,', '        \"BBD\": 2.195935,', '        \"BDT\": 114.904329,', '        \"BGN\": 1.959911,', '        \"BHD\": 0.410012,', '        \"BIF\": 2255.854168,', '        \"BMD\": 1.087725,', '        \"BND\": 1.438149,', '        \"BOB\": 7.514956,', '        \"BRL\": 5.664656,', '        \"BSD\": 1.087569,', '        \"BTC\": 4.742217e-05,', '        \"BTN\": 88.264512,', '        \"BWP\": 13.925651,', '        \"BYN\": 2.745621,', '        \"BYR\": 21319.400752,', '        \"BZD\": 2.192217,', '        \"CAD\": 1.456844,', '        \"CDF\": 2206.453469,', '        \"CHF\": 1.000717,', '        \"CLF\": 0.032139,', '        \"CLP\": 886.826063,', '        \"CNY\": 7.378693,', '        \"COP\": 5056.374487,', '        \"CRC\": 612.625246,', '        \"CUC\": 1.087725,', '        \"CUP\": 28.8247,', '        \"CVE\": 110.7762,', '        \"CZK\": 23.914766,', '        \"DJF\": 193.310831,', '        \"DKK\": 7.454507,', '        \"DOP\": 61.731698,', '        \"DZD\": 147.921999,', '        \"EGP\": 32.390241,', '        \"ERN\": 16.315868,', '        \"ETB\": 58.332862,', '        \"EUR\": 1,', '        \"FJD\": 2.365697,', '        \"FKP\": 0.877821,', '        \"GBP\": 0.877976,', '        \"GEL\": 2.882895,', '        \"GGP\": 0.877821,', '        \"GHS\": 13.376451,', '        \"GIP\": 0.877821,', '        \"GMD\": 67.820048,', '        \"GNF\": 9367.829774,', '        \"GTQ\": 8.537566,', '        \"GYD\": 227.537801,', '        \"HKD\": 8.52205,', '        \"HNL\": 26.830913,', '        \"HRK\": 7.659978,', '        \"HTG\": 161.300961,', '        \"HUF\": 393.463015,', '        \"IDR\": 16384.720885,', '        \"ILS\": 3.700226,', '        \"IMP\": 0.877821,', '        \"INR\": 88.079854,', '        \"IQD\": 1587.339145,', '        \"IRR\": 45521.271887,', '        \"ISK\": 154.816252,', '        \"JEP\": 0.877821,', '        \"JMD\": 166.820865,', '        \"JOD\": 0.771527,', '        \"JPY\": 140.920194,', '        \"KES\": 134.990751,', '        \"KGS\": 93.631223,', '        \"KHR\": 4477.612765,', '        \"KMF\": 494.724351,', '        \"KPW\": 978.952105,', '        \"KRW\": 1339.021943,', '        \"KWD\": 0.332387,', '        \"KYD\": 0.906353,', '        \"KZT\": 503.362871,', '        \"LAK\": 18337.449144,', '        \"LBP\": 1644.549588,', '        \"LKR\": 398.059433,', '        \"LRD\": 170.066145,', '        \"LSL\": 18.796295,', '        \"LTL\": 3.211768,', '        \"LVL\": 0.657954,', '        \"LYD\": 5.183033,', '        \"MAD\": 11.09557,', '        \"MDL\": 20.609919,', '        \"MGA\": 4645.31216,', '        \"MKD\": 61.901225,', '        \"MMK\": 2283.947423,', '        \"MNT\": 3786.298708,', '        \"MOP\": 8.774156,', '        \"MRO\": 388.317469,', '        \"MUR\": 47.740641,', '        \"MVR\": 16.696983,', '        \"MWK\": 1107.994815,', '        \"MXN\": 20.530587,', '        \"MYR\": 4.661448,', '        \"MZN\": 69.429867,', '        \"NAD\": 18.79629,', '        \"NGN\": 494.980334,', '        \"NIO\": 39.738844,', '        \"NOK\": 10.651945,', '        \"NPR\": 141.222737,', '        \"NZD\": 1.680662,', '        \"OMR\": 0.418769,', '        \"PAB\": 1.087569,', '        \"PEN\": 4.200211,', '        \"PGK\": 3.832952,', '        \"PHP\": 59.237886,', '        \"PKR\": 250.010663,', '        \"PLN\": 4.500624,', '        \"PYG\": 8075.296154,', '        \"QAR\": 3.960447,', '        \"RON\": 4.92261,', '        \"RSD\": 117.599379,', '        \"RUB\": 74.237605,', '        \"RWF\": 1169.407856,', '        \"SAR\": 4.083155,', '        \"SBD\": 8.990073,', '        \"SCR\": 14.977322,', '        \"SDG\": 623.814018,', '        \"SEK\": 11.198672,', '        \"SGD\": 1.435474,', '        \"SHP\": 1.498236,', '        \"SLE\": 20.884365,', '        \"SLL\": 20867.995441,', '        \"SOS\": 619.463105,', '        \"SRD\": 35.262402,', '        \"STD\": 22513.701626,', '        \"SVC\": 9.516265,', '        \"SYP\": 2732.935193,', '        \"SZL\": 18.755517,', '        \"THB\": 35.50373,', '        \"TJS\": 11.14694,', '        \"TMT\": 3.807036,', '        \"TND\": 3.356178,', '        \"TOP\": 2.532988,', '        \"TRY\": 20.403432,', '        \"TTD\": 7.384549,', '        \"TWD\": 32.993626,', '        \"TZS\": 2539.837138,', '        \"UAH\": 39.961244,', '        \"UGX\": 3999.932054,', '        \"USD\": 1.087725,', '        \"UYU\": 42.693354,', '        \"UZS\": 12299.772905,', '        \"VEF\": 2202571.615683,', '        \"VES\": 21.710462,', '        \"VND\": 25507.140185,', '        \"VUV\": 126.186537,', '        \"WST\": 2.909126,', '        \"XAF\": 659.043735,', '        \"XAG\": 0.045433,', '        \"XAU\": 0.000565,', '        \"XCD\": 2.93963,', '        \"XDR\": 0.806075,', '        \"XOF\": 659.004169,', '        \"XPF\": 120.197471,', '        \"YER\": 272.312231,', '        \"ZAR\": 18.616627,', '        \"ZMK\": 9790.829926,', '        \"ZMW\": 20.173666,', '        \"ZWL\": 350.246854']\n"
     ]
    }
   ],
   "source": [
    "# Write your code here\n",
    "url = \"https://api.apilayer.com/exchangerates_data/latest?base=EUR&apikey=\"\n",
    "html_data = requests.get(url).text\n",
    "data_text = str(html_data).splitlines()[6:-2]\n",
    "\n",
    "print(data_text)"
   ]
  },
  {
   "cell_type": "markdown",
   "metadata": {},
   "source": [
    "### Save as DataFrame\n",
    "\n",
    "<b> Question 2</b>  Using the data gathered turn it into a `pandas` dataframe. The dataframe should have the Currency as the index and `Rate` as their columns. Make sure to drop unnecessary columns.\n"
   ]
  },
  {
   "cell_type": "code",
   "execution_count": 8,
   "metadata": {},
   "outputs": [
    {
     "name": "stderr",
     "output_type": "stream",
     "text": [
      "C:\\Users\\steff\\AppData\\Local\\Temp\\ipykernel_8416\\141033230.py:8: FutureWarning: The frame.append method is deprecated and will be removed from pandas in a future version. Use pandas.concat instead.\n",
      "  data = data.append({\"Currency\":Currency,\"Rates\":Rates},ignore_index=True)\n",
      "C:\\Users\\steff\\AppData\\Local\\Temp\\ipykernel_8416\\141033230.py:8: FutureWarning: The frame.append method is deprecated and will be removed from pandas in a future version. Use pandas.concat instead.\n",
      "  data = data.append({\"Currency\":Currency,\"Rates\":Rates},ignore_index=True)\n",
      "C:\\Users\\steff\\AppData\\Local\\Temp\\ipykernel_8416\\141033230.py:8: FutureWarning: The frame.append method is deprecated and will be removed from pandas in a future version. Use pandas.concat instead.\n",
      "  data = data.append({\"Currency\":Currency,\"Rates\":Rates},ignore_index=True)\n",
      "C:\\Users\\steff\\AppData\\Local\\Temp\\ipykernel_8416\\141033230.py:8: FutureWarning: The frame.append method is deprecated and will be removed from pandas in a future version. Use pandas.concat instead.\n",
      "  data = data.append({\"Currency\":Currency,\"Rates\":Rates},ignore_index=True)\n",
      "C:\\Users\\steff\\AppData\\Local\\Temp\\ipykernel_8416\\141033230.py:8: FutureWarning: The frame.append method is deprecated and will be removed from pandas in a future version. Use pandas.concat instead.\n",
      "  data = data.append({\"Currency\":Currency,\"Rates\":Rates},ignore_index=True)\n",
      "C:\\Users\\steff\\AppData\\Local\\Temp\\ipykernel_8416\\141033230.py:8: FutureWarning: The frame.append method is deprecated and will be removed from pandas in a future version. Use pandas.concat instead.\n",
      "  data = data.append({\"Currency\":Currency,\"Rates\":Rates},ignore_index=True)\n",
      "C:\\Users\\steff\\AppData\\Local\\Temp\\ipykernel_8416\\141033230.py:8: FutureWarning: The frame.append method is deprecated and will be removed from pandas in a future version. Use pandas.concat instead.\n",
      "  data = data.append({\"Currency\":Currency,\"Rates\":Rates},ignore_index=True)\n",
      "C:\\Users\\steff\\AppData\\Local\\Temp\\ipykernel_8416\\141033230.py:8: FutureWarning: The frame.append method is deprecated and will be removed from pandas in a future version. Use pandas.concat instead.\n",
      "  data = data.append({\"Currency\":Currency,\"Rates\":Rates},ignore_index=True)\n",
      "C:\\Users\\steff\\AppData\\Local\\Temp\\ipykernel_8416\\141033230.py:8: FutureWarning: The frame.append method is deprecated and will be removed from pandas in a future version. Use pandas.concat instead.\n",
      "  data = data.append({\"Currency\":Currency,\"Rates\":Rates},ignore_index=True)\n",
      "C:\\Users\\steff\\AppData\\Local\\Temp\\ipykernel_8416\\141033230.py:8: FutureWarning: The frame.append method is deprecated and will be removed from pandas in a future version. Use pandas.concat instead.\n",
      "  data = data.append({\"Currency\":Currency,\"Rates\":Rates},ignore_index=True)\n",
      "C:\\Users\\steff\\AppData\\Local\\Temp\\ipykernel_8416\\141033230.py:8: FutureWarning: The frame.append method is deprecated and will be removed from pandas in a future version. Use pandas.concat instead.\n",
      "  data = data.append({\"Currency\":Currency,\"Rates\":Rates},ignore_index=True)\n",
      "C:\\Users\\steff\\AppData\\Local\\Temp\\ipykernel_8416\\141033230.py:8: FutureWarning: The frame.append method is deprecated and will be removed from pandas in a future version. Use pandas.concat instead.\n",
      "  data = data.append({\"Currency\":Currency,\"Rates\":Rates},ignore_index=True)\n",
      "C:\\Users\\steff\\AppData\\Local\\Temp\\ipykernel_8416\\141033230.py:8: FutureWarning: The frame.append method is deprecated and will be removed from pandas in a future version. Use pandas.concat instead.\n",
      "  data = data.append({\"Currency\":Currency,\"Rates\":Rates},ignore_index=True)\n",
      "C:\\Users\\steff\\AppData\\Local\\Temp\\ipykernel_8416\\141033230.py:8: FutureWarning: The frame.append method is deprecated and will be removed from pandas in a future version. Use pandas.concat instead.\n",
      "  data = data.append({\"Currency\":Currency,\"Rates\":Rates},ignore_index=True)\n",
      "C:\\Users\\steff\\AppData\\Local\\Temp\\ipykernel_8416\\141033230.py:8: FutureWarning: The frame.append method is deprecated and will be removed from pandas in a future version. Use pandas.concat instead.\n",
      "  data = data.append({\"Currency\":Currency,\"Rates\":Rates},ignore_index=True)\n",
      "C:\\Users\\steff\\AppData\\Local\\Temp\\ipykernel_8416\\141033230.py:8: FutureWarning: The frame.append method is deprecated and will be removed from pandas in a future version. Use pandas.concat instead.\n",
      "  data = data.append({\"Currency\":Currency,\"Rates\":Rates},ignore_index=True)\n",
      "C:\\Users\\steff\\AppData\\Local\\Temp\\ipykernel_8416\\141033230.py:8: FutureWarning: The frame.append method is deprecated and will be removed from pandas in a future version. Use pandas.concat instead.\n",
      "  data = data.append({\"Currency\":Currency,\"Rates\":Rates},ignore_index=True)\n",
      "C:\\Users\\steff\\AppData\\Local\\Temp\\ipykernel_8416\\141033230.py:8: FutureWarning: The frame.append method is deprecated and will be removed from pandas in a future version. Use pandas.concat instead.\n",
      "  data = data.append({\"Currency\":Currency,\"Rates\":Rates},ignore_index=True)\n",
      "C:\\Users\\steff\\AppData\\Local\\Temp\\ipykernel_8416\\141033230.py:8: FutureWarning: The frame.append method is deprecated and will be removed from pandas in a future version. Use pandas.concat instead.\n",
      "  data = data.append({\"Currency\":Currency,\"Rates\":Rates},ignore_index=True)\n",
      "C:\\Users\\steff\\AppData\\Local\\Temp\\ipykernel_8416\\141033230.py:8: FutureWarning: The frame.append method is deprecated and will be removed from pandas in a future version. Use pandas.concat instead.\n",
      "  data = data.append({\"Currency\":Currency,\"Rates\":Rates},ignore_index=True)\n",
      "C:\\Users\\steff\\AppData\\Local\\Temp\\ipykernel_8416\\141033230.py:8: FutureWarning: The frame.append method is deprecated and will be removed from pandas in a future version. Use pandas.concat instead.\n",
      "  data = data.append({\"Currency\":Currency,\"Rates\":Rates},ignore_index=True)\n",
      "C:\\Users\\steff\\AppData\\Local\\Temp\\ipykernel_8416\\141033230.py:8: FutureWarning: The frame.append method is deprecated and will be removed from pandas in a future version. Use pandas.concat instead.\n",
      "  data = data.append({\"Currency\":Currency,\"Rates\":Rates},ignore_index=True)\n",
      "C:\\Users\\steff\\AppData\\Local\\Temp\\ipykernel_8416\\141033230.py:8: FutureWarning: The frame.append method is deprecated and will be removed from pandas in a future version. Use pandas.concat instead.\n",
      "  data = data.append({\"Currency\":Currency,\"Rates\":Rates},ignore_index=True)\n",
      "C:\\Users\\steff\\AppData\\Local\\Temp\\ipykernel_8416\\141033230.py:8: FutureWarning: The frame.append method is deprecated and will be removed from pandas in a future version. Use pandas.concat instead.\n",
      "  data = data.append({\"Currency\":Currency,\"Rates\":Rates},ignore_index=True)\n",
      "C:\\Users\\steff\\AppData\\Local\\Temp\\ipykernel_8416\\141033230.py:8: FutureWarning: The frame.append method is deprecated and will be removed from pandas in a future version. Use pandas.concat instead.\n",
      "  data = data.append({\"Currency\":Currency,\"Rates\":Rates},ignore_index=True)\n",
      "C:\\Users\\steff\\AppData\\Local\\Temp\\ipykernel_8416\\141033230.py:8: FutureWarning: The frame.append method is deprecated and will be removed from pandas in a future version. Use pandas.concat instead.\n",
      "  data = data.append({\"Currency\":Currency,\"Rates\":Rates},ignore_index=True)\n",
      "C:\\Users\\steff\\AppData\\Local\\Temp\\ipykernel_8416\\141033230.py:8: FutureWarning: The frame.append method is deprecated and will be removed from pandas in a future version. Use pandas.concat instead.\n",
      "  data = data.append({\"Currency\":Currency,\"Rates\":Rates},ignore_index=True)\n",
      "C:\\Users\\steff\\AppData\\Local\\Temp\\ipykernel_8416\\141033230.py:8: FutureWarning: The frame.append method is deprecated and will be removed from pandas in a future version. Use pandas.concat instead.\n",
      "  data = data.append({\"Currency\":Currency,\"Rates\":Rates},ignore_index=True)\n",
      "C:\\Users\\steff\\AppData\\Local\\Temp\\ipykernel_8416\\141033230.py:8: FutureWarning: The frame.append method is deprecated and will be removed from pandas in a future version. Use pandas.concat instead.\n",
      "  data = data.append({\"Currency\":Currency,\"Rates\":Rates},ignore_index=True)\n",
      "C:\\Users\\steff\\AppData\\Local\\Temp\\ipykernel_8416\\141033230.py:8: FutureWarning: The frame.append method is deprecated and will be removed from pandas in a future version. Use pandas.concat instead.\n",
      "  data = data.append({\"Currency\":Currency,\"Rates\":Rates},ignore_index=True)\n",
      "C:\\Users\\steff\\AppData\\Local\\Temp\\ipykernel_8416\\141033230.py:8: FutureWarning: The frame.append method is deprecated and will be removed from pandas in a future version. Use pandas.concat instead.\n",
      "  data = data.append({\"Currency\":Currency,\"Rates\":Rates},ignore_index=True)\n",
      "C:\\Users\\steff\\AppData\\Local\\Temp\\ipykernel_8416\\141033230.py:8: FutureWarning: The frame.append method is deprecated and will be removed from pandas in a future version. Use pandas.concat instead.\n",
      "  data = data.append({\"Currency\":Currency,\"Rates\":Rates},ignore_index=True)\n",
      "C:\\Users\\steff\\AppData\\Local\\Temp\\ipykernel_8416\\141033230.py:8: FutureWarning: The frame.append method is deprecated and will be removed from pandas in a future version. Use pandas.concat instead.\n",
      "  data = data.append({\"Currency\":Currency,\"Rates\":Rates},ignore_index=True)\n",
      "C:\\Users\\steff\\AppData\\Local\\Temp\\ipykernel_8416\\141033230.py:8: FutureWarning: The frame.append method is deprecated and will be removed from pandas in a future version. Use pandas.concat instead.\n",
      "  data = data.append({\"Currency\":Currency,\"Rates\":Rates},ignore_index=True)\n",
      "C:\\Users\\steff\\AppData\\Local\\Temp\\ipykernel_8416\\141033230.py:8: FutureWarning: The frame.append method is deprecated and will be removed from pandas in a future version. Use pandas.concat instead.\n",
      "  data = data.append({\"Currency\":Currency,\"Rates\":Rates},ignore_index=True)\n",
      "C:\\Users\\steff\\AppData\\Local\\Temp\\ipykernel_8416\\141033230.py:8: FutureWarning: The frame.append method is deprecated and will be removed from pandas in a future version. Use pandas.concat instead.\n",
      "  data = data.append({\"Currency\":Currency,\"Rates\":Rates},ignore_index=True)\n",
      "C:\\Users\\steff\\AppData\\Local\\Temp\\ipykernel_8416\\141033230.py:8: FutureWarning: The frame.append method is deprecated and will be removed from pandas in a future version. Use pandas.concat instead.\n",
      "  data = data.append({\"Currency\":Currency,\"Rates\":Rates},ignore_index=True)\n",
      "C:\\Users\\steff\\AppData\\Local\\Temp\\ipykernel_8416\\141033230.py:8: FutureWarning: The frame.append method is deprecated and will be removed from pandas in a future version. Use pandas.concat instead.\n",
      "  data = data.append({\"Currency\":Currency,\"Rates\":Rates},ignore_index=True)\n",
      "C:\\Users\\steff\\AppData\\Local\\Temp\\ipykernel_8416\\141033230.py:8: FutureWarning: The frame.append method is deprecated and will be removed from pandas in a future version. Use pandas.concat instead.\n",
      "  data = data.append({\"Currency\":Currency,\"Rates\":Rates},ignore_index=True)\n",
      "C:\\Users\\steff\\AppData\\Local\\Temp\\ipykernel_8416\\141033230.py:8: FutureWarning: The frame.append method is deprecated and will be removed from pandas in a future version. Use pandas.concat instead.\n",
      "  data = data.append({\"Currency\":Currency,\"Rates\":Rates},ignore_index=True)\n",
      "C:\\Users\\steff\\AppData\\Local\\Temp\\ipykernel_8416\\141033230.py:8: FutureWarning: The frame.append method is deprecated and will be removed from pandas in a future version. Use pandas.concat instead.\n",
      "  data = data.append({\"Currency\":Currency,\"Rates\":Rates},ignore_index=True)\n",
      "C:\\Users\\steff\\AppData\\Local\\Temp\\ipykernel_8416\\141033230.py:8: FutureWarning: The frame.append method is deprecated and will be removed from pandas in a future version. Use pandas.concat instead.\n",
      "  data = data.append({\"Currency\":Currency,\"Rates\":Rates},ignore_index=True)\n",
      "C:\\Users\\steff\\AppData\\Local\\Temp\\ipykernel_8416\\141033230.py:8: FutureWarning: The frame.append method is deprecated and will be removed from pandas in a future version. Use pandas.concat instead.\n",
      "  data = data.append({\"Currency\":Currency,\"Rates\":Rates},ignore_index=True)\n",
      "C:\\Users\\steff\\AppData\\Local\\Temp\\ipykernel_8416\\141033230.py:8: FutureWarning: The frame.append method is deprecated and will be removed from pandas in a future version. Use pandas.concat instead.\n",
      "  data = data.append({\"Currency\":Currency,\"Rates\":Rates},ignore_index=True)\n",
      "C:\\Users\\steff\\AppData\\Local\\Temp\\ipykernel_8416\\141033230.py:8: FutureWarning: The frame.append method is deprecated and will be removed from pandas in a future version. Use pandas.concat instead.\n",
      "  data = data.append({\"Currency\":Currency,\"Rates\":Rates},ignore_index=True)\n",
      "C:\\Users\\steff\\AppData\\Local\\Temp\\ipykernel_8416\\141033230.py:8: FutureWarning: The frame.append method is deprecated and will be removed from pandas in a future version. Use pandas.concat instead.\n",
      "  data = data.append({\"Currency\":Currency,\"Rates\":Rates},ignore_index=True)\n",
      "C:\\Users\\steff\\AppData\\Local\\Temp\\ipykernel_8416\\141033230.py:8: FutureWarning: The frame.append method is deprecated and will be removed from pandas in a future version. Use pandas.concat instead.\n",
      "  data = data.append({\"Currency\":Currency,\"Rates\":Rates},ignore_index=True)\n",
      "C:\\Users\\steff\\AppData\\Local\\Temp\\ipykernel_8416\\141033230.py:8: FutureWarning: The frame.append method is deprecated and will be removed from pandas in a future version. Use pandas.concat instead.\n",
      "  data = data.append({\"Currency\":Currency,\"Rates\":Rates},ignore_index=True)\n",
      "C:\\Users\\steff\\AppData\\Local\\Temp\\ipykernel_8416\\141033230.py:8: FutureWarning: The frame.append method is deprecated and will be removed from pandas in a future version. Use pandas.concat instead.\n",
      "  data = data.append({\"Currency\":Currency,\"Rates\":Rates},ignore_index=True)\n",
      "C:\\Users\\steff\\AppData\\Local\\Temp\\ipykernel_8416\\141033230.py:8: FutureWarning: The frame.append method is deprecated and will be removed from pandas in a future version. Use pandas.concat instead.\n",
      "  data = data.append({\"Currency\":Currency,\"Rates\":Rates},ignore_index=True)\n",
      "C:\\Users\\steff\\AppData\\Local\\Temp\\ipykernel_8416\\141033230.py:8: FutureWarning: The frame.append method is deprecated and will be removed from pandas in a future version. Use pandas.concat instead.\n",
      "  data = data.append({\"Currency\":Currency,\"Rates\":Rates},ignore_index=True)\n",
      "C:\\Users\\steff\\AppData\\Local\\Temp\\ipykernel_8416\\141033230.py:8: FutureWarning: The frame.append method is deprecated and will be removed from pandas in a future version. Use pandas.concat instead.\n",
      "  data = data.append({\"Currency\":Currency,\"Rates\":Rates},ignore_index=True)\n",
      "C:\\Users\\steff\\AppData\\Local\\Temp\\ipykernel_8416\\141033230.py:8: FutureWarning: The frame.append method is deprecated and will be removed from pandas in a future version. Use pandas.concat instead.\n",
      "  data = data.append({\"Currency\":Currency,\"Rates\":Rates},ignore_index=True)\n",
      "C:\\Users\\steff\\AppData\\Local\\Temp\\ipykernel_8416\\141033230.py:8: FutureWarning: The frame.append method is deprecated and will be removed from pandas in a future version. Use pandas.concat instead.\n",
      "  data = data.append({\"Currency\":Currency,\"Rates\":Rates},ignore_index=True)\n",
      "C:\\Users\\steff\\AppData\\Local\\Temp\\ipykernel_8416\\141033230.py:8: FutureWarning: The frame.append method is deprecated and will be removed from pandas in a future version. Use pandas.concat instead.\n",
      "  data = data.append({\"Currency\":Currency,\"Rates\":Rates},ignore_index=True)\n",
      "C:\\Users\\steff\\AppData\\Local\\Temp\\ipykernel_8416\\141033230.py:8: FutureWarning: The frame.append method is deprecated and will be removed from pandas in a future version. Use pandas.concat instead.\n",
      "  data = data.append({\"Currency\":Currency,\"Rates\":Rates},ignore_index=True)\n",
      "C:\\Users\\steff\\AppData\\Local\\Temp\\ipykernel_8416\\141033230.py:8: FutureWarning: The frame.append method is deprecated and will be removed from pandas in a future version. Use pandas.concat instead.\n",
      "  data = data.append({\"Currency\":Currency,\"Rates\":Rates},ignore_index=True)\n",
      "C:\\Users\\steff\\AppData\\Local\\Temp\\ipykernel_8416\\141033230.py:8: FutureWarning: The frame.append method is deprecated and will be removed from pandas in a future version. Use pandas.concat instead.\n",
      "  data = data.append({\"Currency\":Currency,\"Rates\":Rates},ignore_index=True)\n",
      "C:\\Users\\steff\\AppData\\Local\\Temp\\ipykernel_8416\\141033230.py:8: FutureWarning: The frame.append method is deprecated and will be removed from pandas in a future version. Use pandas.concat instead.\n",
      "  data = data.append({\"Currency\":Currency,\"Rates\":Rates},ignore_index=True)\n",
      "C:\\Users\\steff\\AppData\\Local\\Temp\\ipykernel_8416\\141033230.py:8: FutureWarning: The frame.append method is deprecated and will be removed from pandas in a future version. Use pandas.concat instead.\n",
      "  data = data.append({\"Currency\":Currency,\"Rates\":Rates},ignore_index=True)\n",
      "C:\\Users\\steff\\AppData\\Local\\Temp\\ipykernel_8416\\141033230.py:8: FutureWarning: The frame.append method is deprecated and will be removed from pandas in a future version. Use pandas.concat instead.\n",
      "  data = data.append({\"Currency\":Currency,\"Rates\":Rates},ignore_index=True)\n",
      "C:\\Users\\steff\\AppData\\Local\\Temp\\ipykernel_8416\\141033230.py:8: FutureWarning: The frame.append method is deprecated and will be removed from pandas in a future version. Use pandas.concat instead.\n",
      "  data = data.append({\"Currency\":Currency,\"Rates\":Rates},ignore_index=True)\n",
      "C:\\Users\\steff\\AppData\\Local\\Temp\\ipykernel_8416\\141033230.py:8: FutureWarning: The frame.append method is deprecated and will be removed from pandas in a future version. Use pandas.concat instead.\n",
      "  data = data.append({\"Currency\":Currency,\"Rates\":Rates},ignore_index=True)\n",
      "C:\\Users\\steff\\AppData\\Local\\Temp\\ipykernel_8416\\141033230.py:8: FutureWarning: The frame.append method is deprecated and will be removed from pandas in a future version. Use pandas.concat instead.\n",
      "  data = data.append({\"Currency\":Currency,\"Rates\":Rates},ignore_index=True)\n",
      "C:\\Users\\steff\\AppData\\Local\\Temp\\ipykernel_8416\\141033230.py:8: FutureWarning: The frame.append method is deprecated and will be removed from pandas in a future version. Use pandas.concat instead.\n",
      "  data = data.append({\"Currency\":Currency,\"Rates\":Rates},ignore_index=True)\n",
      "C:\\Users\\steff\\AppData\\Local\\Temp\\ipykernel_8416\\141033230.py:8: FutureWarning: The frame.append method is deprecated and will be removed from pandas in a future version. Use pandas.concat instead.\n",
      "  data = data.append({\"Currency\":Currency,\"Rates\":Rates},ignore_index=True)\n",
      "C:\\Users\\steff\\AppData\\Local\\Temp\\ipykernel_8416\\141033230.py:8: FutureWarning: The frame.append method is deprecated and will be removed from pandas in a future version. Use pandas.concat instead.\n",
      "  data = data.append({\"Currency\":Currency,\"Rates\":Rates},ignore_index=True)\n",
      "C:\\Users\\steff\\AppData\\Local\\Temp\\ipykernel_8416\\141033230.py:8: FutureWarning: The frame.append method is deprecated and will be removed from pandas in a future version. Use pandas.concat instead.\n",
      "  data = data.append({\"Currency\":Currency,\"Rates\":Rates},ignore_index=True)\n",
      "C:\\Users\\steff\\AppData\\Local\\Temp\\ipykernel_8416\\141033230.py:8: FutureWarning: The frame.append method is deprecated and will be removed from pandas in a future version. Use pandas.concat instead.\n",
      "  data = data.append({\"Currency\":Currency,\"Rates\":Rates},ignore_index=True)\n",
      "C:\\Users\\steff\\AppData\\Local\\Temp\\ipykernel_8416\\141033230.py:8: FutureWarning: The frame.append method is deprecated and will be removed from pandas in a future version. Use pandas.concat instead.\n",
      "  data = data.append({\"Currency\":Currency,\"Rates\":Rates},ignore_index=True)\n",
      "C:\\Users\\steff\\AppData\\Local\\Temp\\ipykernel_8416\\141033230.py:8: FutureWarning: The frame.append method is deprecated and will be removed from pandas in a future version. Use pandas.concat instead.\n",
      "  data = data.append({\"Currency\":Currency,\"Rates\":Rates},ignore_index=True)\n",
      "C:\\Users\\steff\\AppData\\Local\\Temp\\ipykernel_8416\\141033230.py:8: FutureWarning: The frame.append method is deprecated and will be removed from pandas in a future version. Use pandas.concat instead.\n",
      "  data = data.append({\"Currency\":Currency,\"Rates\":Rates},ignore_index=True)\n",
      "C:\\Users\\steff\\AppData\\Local\\Temp\\ipykernel_8416\\141033230.py:8: FutureWarning: The frame.append method is deprecated and will be removed from pandas in a future version. Use pandas.concat instead.\n",
      "  data = data.append({\"Currency\":Currency,\"Rates\":Rates},ignore_index=True)\n",
      "C:\\Users\\steff\\AppData\\Local\\Temp\\ipykernel_8416\\141033230.py:8: FutureWarning: The frame.append method is deprecated and will be removed from pandas in a future version. Use pandas.concat instead.\n",
      "  data = data.append({\"Currency\":Currency,\"Rates\":Rates},ignore_index=True)\n",
      "C:\\Users\\steff\\AppData\\Local\\Temp\\ipykernel_8416\\141033230.py:8: FutureWarning: The frame.append method is deprecated and will be removed from pandas in a future version. Use pandas.concat instead.\n",
      "  data = data.append({\"Currency\":Currency,\"Rates\":Rates},ignore_index=True)\n",
      "C:\\Users\\steff\\AppData\\Local\\Temp\\ipykernel_8416\\141033230.py:8: FutureWarning: The frame.append method is deprecated and will be removed from pandas in a future version. Use pandas.concat instead.\n",
      "  data = data.append({\"Currency\":Currency,\"Rates\":Rates},ignore_index=True)\n",
      "C:\\Users\\steff\\AppData\\Local\\Temp\\ipykernel_8416\\141033230.py:8: FutureWarning: The frame.append method is deprecated and will be removed from pandas in a future version. Use pandas.concat instead.\n",
      "  data = data.append({\"Currency\":Currency,\"Rates\":Rates},ignore_index=True)\n",
      "C:\\Users\\steff\\AppData\\Local\\Temp\\ipykernel_8416\\141033230.py:8: FutureWarning: The frame.append method is deprecated and will be removed from pandas in a future version. Use pandas.concat instead.\n",
      "  data = data.append({\"Currency\":Currency,\"Rates\":Rates},ignore_index=True)\n",
      "C:\\Users\\steff\\AppData\\Local\\Temp\\ipykernel_8416\\141033230.py:8: FutureWarning: The frame.append method is deprecated and will be removed from pandas in a future version. Use pandas.concat instead.\n",
      "  data = data.append({\"Currency\":Currency,\"Rates\":Rates},ignore_index=True)\n",
      "C:\\Users\\steff\\AppData\\Local\\Temp\\ipykernel_8416\\141033230.py:8: FutureWarning: The frame.append method is deprecated and will be removed from pandas in a future version. Use pandas.concat instead.\n",
      "  data = data.append({\"Currency\":Currency,\"Rates\":Rates},ignore_index=True)\n",
      "C:\\Users\\steff\\AppData\\Local\\Temp\\ipykernel_8416\\141033230.py:8: FutureWarning: The frame.append method is deprecated and will be removed from pandas in a future version. Use pandas.concat instead.\n",
      "  data = data.append({\"Currency\":Currency,\"Rates\":Rates},ignore_index=True)\n",
      "C:\\Users\\steff\\AppData\\Local\\Temp\\ipykernel_8416\\141033230.py:8: FutureWarning: The frame.append method is deprecated and will be removed from pandas in a future version. Use pandas.concat instead.\n",
      "  data = data.append({\"Currency\":Currency,\"Rates\":Rates},ignore_index=True)\n",
      "C:\\Users\\steff\\AppData\\Local\\Temp\\ipykernel_8416\\141033230.py:8: FutureWarning: The frame.append method is deprecated and will be removed from pandas in a future version. Use pandas.concat instead.\n",
      "  data = data.append({\"Currency\":Currency,\"Rates\":Rates},ignore_index=True)\n",
      "C:\\Users\\steff\\AppData\\Local\\Temp\\ipykernel_8416\\141033230.py:8: FutureWarning: The frame.append method is deprecated and will be removed from pandas in a future version. Use pandas.concat instead.\n",
      "  data = data.append({\"Currency\":Currency,\"Rates\":Rates},ignore_index=True)\n",
      "C:\\Users\\steff\\AppData\\Local\\Temp\\ipykernel_8416\\141033230.py:8: FutureWarning: The frame.append method is deprecated and will be removed from pandas in a future version. Use pandas.concat instead.\n",
      "  data = data.append({\"Currency\":Currency,\"Rates\":Rates},ignore_index=True)\n",
      "C:\\Users\\steff\\AppData\\Local\\Temp\\ipykernel_8416\\141033230.py:8: FutureWarning: The frame.append method is deprecated and will be removed from pandas in a future version. Use pandas.concat instead.\n",
      "  data = data.append({\"Currency\":Currency,\"Rates\":Rates},ignore_index=True)\n",
      "C:\\Users\\steff\\AppData\\Local\\Temp\\ipykernel_8416\\141033230.py:8: FutureWarning: The frame.append method is deprecated and will be removed from pandas in a future version. Use pandas.concat instead.\n",
      "  data = data.append({\"Currency\":Currency,\"Rates\":Rates},ignore_index=True)\n",
      "C:\\Users\\steff\\AppData\\Local\\Temp\\ipykernel_8416\\141033230.py:8: FutureWarning: The frame.append method is deprecated and will be removed from pandas in a future version. Use pandas.concat instead.\n",
      "  data = data.append({\"Currency\":Currency,\"Rates\":Rates},ignore_index=True)\n",
      "C:\\Users\\steff\\AppData\\Local\\Temp\\ipykernel_8416\\141033230.py:8: FutureWarning: The frame.append method is deprecated and will be removed from pandas in a future version. Use pandas.concat instead.\n",
      "  data = data.append({\"Currency\":Currency,\"Rates\":Rates},ignore_index=True)\n",
      "C:\\Users\\steff\\AppData\\Local\\Temp\\ipykernel_8416\\141033230.py:8: FutureWarning: The frame.append method is deprecated and will be removed from pandas in a future version. Use pandas.concat instead.\n",
      "  data = data.append({\"Currency\":Currency,\"Rates\":Rates},ignore_index=True)\n",
      "C:\\Users\\steff\\AppData\\Local\\Temp\\ipykernel_8416\\141033230.py:8: FutureWarning: The frame.append method is deprecated and will be removed from pandas in a future version. Use pandas.concat instead.\n",
      "  data = data.append({\"Currency\":Currency,\"Rates\":Rates},ignore_index=True)\n",
      "C:\\Users\\steff\\AppData\\Local\\Temp\\ipykernel_8416\\141033230.py:8: FutureWarning: The frame.append method is deprecated and will be removed from pandas in a future version. Use pandas.concat instead.\n",
      "  data = data.append({\"Currency\":Currency,\"Rates\":Rates},ignore_index=True)\n",
      "C:\\Users\\steff\\AppData\\Local\\Temp\\ipykernel_8416\\141033230.py:8: FutureWarning: The frame.append method is deprecated and will be removed from pandas in a future version. Use pandas.concat instead.\n",
      "  data = data.append({\"Currency\":Currency,\"Rates\":Rates},ignore_index=True)\n",
      "C:\\Users\\steff\\AppData\\Local\\Temp\\ipykernel_8416\\141033230.py:8: FutureWarning: The frame.append method is deprecated and will be removed from pandas in a future version. Use pandas.concat instead.\n",
      "  data = data.append({\"Currency\":Currency,\"Rates\":Rates},ignore_index=True)\n",
      "C:\\Users\\steff\\AppData\\Local\\Temp\\ipykernel_8416\\141033230.py:8: FutureWarning: The frame.append method is deprecated and will be removed from pandas in a future version. Use pandas.concat instead.\n",
      "  data = data.append({\"Currency\":Currency,\"Rates\":Rates},ignore_index=True)\n",
      "C:\\Users\\steff\\AppData\\Local\\Temp\\ipykernel_8416\\141033230.py:8: FutureWarning: The frame.append method is deprecated and will be removed from pandas in a future version. Use pandas.concat instead.\n",
      "  data = data.append({\"Currency\":Currency,\"Rates\":Rates},ignore_index=True)\n",
      "C:\\Users\\steff\\AppData\\Local\\Temp\\ipykernel_8416\\141033230.py:8: FutureWarning: The frame.append method is deprecated and will be removed from pandas in a future version. Use pandas.concat instead.\n",
      "  data = data.append({\"Currency\":Currency,\"Rates\":Rates},ignore_index=True)\n",
      "C:\\Users\\steff\\AppData\\Local\\Temp\\ipykernel_8416\\141033230.py:8: FutureWarning: The frame.append method is deprecated and will be removed from pandas in a future version. Use pandas.concat instead.\n",
      "  data = data.append({\"Currency\":Currency,\"Rates\":Rates},ignore_index=True)\n",
      "C:\\Users\\steff\\AppData\\Local\\Temp\\ipykernel_8416\\141033230.py:8: FutureWarning: The frame.append method is deprecated and will be removed from pandas in a future version. Use pandas.concat instead.\n",
      "  data = data.append({\"Currency\":Currency,\"Rates\":Rates},ignore_index=True)\n",
      "C:\\Users\\steff\\AppData\\Local\\Temp\\ipykernel_8416\\141033230.py:8: FutureWarning: The frame.append method is deprecated and will be removed from pandas in a future version. Use pandas.concat instead.\n",
      "  data = data.append({\"Currency\":Currency,\"Rates\":Rates},ignore_index=True)\n",
      "C:\\Users\\steff\\AppData\\Local\\Temp\\ipykernel_8416\\141033230.py:8: FutureWarning: The frame.append method is deprecated and will be removed from pandas in a future version. Use pandas.concat instead.\n",
      "  data = data.append({\"Currency\":Currency,\"Rates\":Rates},ignore_index=True)\n",
      "C:\\Users\\steff\\AppData\\Local\\Temp\\ipykernel_8416\\141033230.py:8: FutureWarning: The frame.append method is deprecated and will be removed from pandas in a future version. Use pandas.concat instead.\n",
      "  data = data.append({\"Currency\":Currency,\"Rates\":Rates},ignore_index=True)\n",
      "C:\\Users\\steff\\AppData\\Local\\Temp\\ipykernel_8416\\141033230.py:8: FutureWarning: The frame.append method is deprecated and will be removed from pandas in a future version. Use pandas.concat instead.\n",
      "  data = data.append({\"Currency\":Currency,\"Rates\":Rates},ignore_index=True)\n",
      "C:\\Users\\steff\\AppData\\Local\\Temp\\ipykernel_8416\\141033230.py:8: FutureWarning: The frame.append method is deprecated and will be removed from pandas in a future version. Use pandas.concat instead.\n",
      "  data = data.append({\"Currency\":Currency,\"Rates\":Rates},ignore_index=True)\n",
      "C:\\Users\\steff\\AppData\\Local\\Temp\\ipykernel_8416\\141033230.py:8: FutureWarning: The frame.append method is deprecated and will be removed from pandas in a future version. Use pandas.concat instead.\n",
      "  data = data.append({\"Currency\":Currency,\"Rates\":Rates},ignore_index=True)\n",
      "C:\\Users\\steff\\AppData\\Local\\Temp\\ipykernel_8416\\141033230.py:8: FutureWarning: The frame.append method is deprecated and will be removed from pandas in a future version. Use pandas.concat instead.\n",
      "  data = data.append({\"Currency\":Currency,\"Rates\":Rates},ignore_index=True)\n",
      "C:\\Users\\steff\\AppData\\Local\\Temp\\ipykernel_8416\\141033230.py:8: FutureWarning: The frame.append method is deprecated and will be removed from pandas in a future version. Use pandas.concat instead.\n",
      "  data = data.append({\"Currency\":Currency,\"Rates\":Rates},ignore_index=True)\n",
      "C:\\Users\\steff\\AppData\\Local\\Temp\\ipykernel_8416\\141033230.py:8: FutureWarning: The frame.append method is deprecated and will be removed from pandas in a future version. Use pandas.concat instead.\n",
      "  data = data.append({\"Currency\":Currency,\"Rates\":Rates},ignore_index=True)\n",
      "C:\\Users\\steff\\AppData\\Local\\Temp\\ipykernel_8416\\141033230.py:8: FutureWarning: The frame.append method is deprecated and will be removed from pandas in a future version. Use pandas.concat instead.\n",
      "  data = data.append({\"Currency\":Currency,\"Rates\":Rates},ignore_index=True)\n",
      "C:\\Users\\steff\\AppData\\Local\\Temp\\ipykernel_8416\\141033230.py:8: FutureWarning: The frame.append method is deprecated and will be removed from pandas in a future version. Use pandas.concat instead.\n",
      "  data = data.append({\"Currency\":Currency,\"Rates\":Rates},ignore_index=True)\n",
      "C:\\Users\\steff\\AppData\\Local\\Temp\\ipykernel_8416\\141033230.py:8: FutureWarning: The frame.append method is deprecated and will be removed from pandas in a future version. Use pandas.concat instead.\n",
      "  data = data.append({\"Currency\":Currency,\"Rates\":Rates},ignore_index=True)\n",
      "C:\\Users\\steff\\AppData\\Local\\Temp\\ipykernel_8416\\141033230.py:8: FutureWarning: The frame.append method is deprecated and will be removed from pandas in a future version. Use pandas.concat instead.\n",
      "  data = data.append({\"Currency\":Currency,\"Rates\":Rates},ignore_index=True)\n",
      "C:\\Users\\steff\\AppData\\Local\\Temp\\ipykernel_8416\\141033230.py:8: FutureWarning: The frame.append method is deprecated and will be removed from pandas in a future version. Use pandas.concat instead.\n",
      "  data = data.append({\"Currency\":Currency,\"Rates\":Rates},ignore_index=True)\n",
      "C:\\Users\\steff\\AppData\\Local\\Temp\\ipykernel_8416\\141033230.py:8: FutureWarning: The frame.append method is deprecated and will be removed from pandas in a future version. Use pandas.concat instead.\n",
      "  data = data.append({\"Currency\":Currency,\"Rates\":Rates},ignore_index=True)\n",
      "C:\\Users\\steff\\AppData\\Local\\Temp\\ipykernel_8416\\141033230.py:8: FutureWarning: The frame.append method is deprecated and will be removed from pandas in a future version. Use pandas.concat instead.\n",
      "  data = data.append({\"Currency\":Currency,\"Rates\":Rates},ignore_index=True)\n",
      "C:\\Users\\steff\\AppData\\Local\\Temp\\ipykernel_8416\\141033230.py:8: FutureWarning: The frame.append method is deprecated and will be removed from pandas in a future version. Use pandas.concat instead.\n",
      "  data = data.append({\"Currency\":Currency,\"Rates\":Rates},ignore_index=True)\n",
      "C:\\Users\\steff\\AppData\\Local\\Temp\\ipykernel_8416\\141033230.py:8: FutureWarning: The frame.append method is deprecated and will be removed from pandas in a future version. Use pandas.concat instead.\n",
      "  data = data.append({\"Currency\":Currency,\"Rates\":Rates},ignore_index=True)\n",
      "C:\\Users\\steff\\AppData\\Local\\Temp\\ipykernel_8416\\141033230.py:8: FutureWarning: The frame.append method is deprecated and will be removed from pandas in a future version. Use pandas.concat instead.\n",
      "  data = data.append({\"Currency\":Currency,\"Rates\":Rates},ignore_index=True)\n",
      "C:\\Users\\steff\\AppData\\Local\\Temp\\ipykernel_8416\\141033230.py:8: FutureWarning: The frame.append method is deprecated and will be removed from pandas in a future version. Use pandas.concat instead.\n",
      "  data = data.append({\"Currency\":Currency,\"Rates\":Rates},ignore_index=True)\n",
      "C:\\Users\\steff\\AppData\\Local\\Temp\\ipykernel_8416\\141033230.py:8: FutureWarning: The frame.append method is deprecated and will be removed from pandas in a future version. Use pandas.concat instead.\n",
      "  data = data.append({\"Currency\":Currency,\"Rates\":Rates},ignore_index=True)\n",
      "C:\\Users\\steff\\AppData\\Local\\Temp\\ipykernel_8416\\141033230.py:8: FutureWarning: The frame.append method is deprecated and will be removed from pandas in a future version. Use pandas.concat instead.\n",
      "  data = data.append({\"Currency\":Currency,\"Rates\":Rates},ignore_index=True)\n",
      "C:\\Users\\steff\\AppData\\Local\\Temp\\ipykernel_8416\\141033230.py:8: FutureWarning: The frame.append method is deprecated and will be removed from pandas in a future version. Use pandas.concat instead.\n",
      "  data = data.append({\"Currency\":Currency,\"Rates\":Rates},ignore_index=True)\n",
      "C:\\Users\\steff\\AppData\\Local\\Temp\\ipykernel_8416\\141033230.py:8: FutureWarning: The frame.append method is deprecated and will be removed from pandas in a future version. Use pandas.concat instead.\n",
      "  data = data.append({\"Currency\":Currency,\"Rates\":Rates},ignore_index=True)\n",
      "C:\\Users\\steff\\AppData\\Local\\Temp\\ipykernel_8416\\141033230.py:8: FutureWarning: The frame.append method is deprecated and will be removed from pandas in a future version. Use pandas.concat instead.\n",
      "  data = data.append({\"Currency\":Currency,\"Rates\":Rates},ignore_index=True)\n",
      "C:\\Users\\steff\\AppData\\Local\\Temp\\ipykernel_8416\\141033230.py:8: FutureWarning: The frame.append method is deprecated and will be removed from pandas in a future version. Use pandas.concat instead.\n",
      "  data = data.append({\"Currency\":Currency,\"Rates\":Rates},ignore_index=True)\n",
      "C:\\Users\\steff\\AppData\\Local\\Temp\\ipykernel_8416\\141033230.py:8: FutureWarning: The frame.append method is deprecated and will be removed from pandas in a future version. Use pandas.concat instead.\n",
      "  data = data.append({\"Currency\":Currency,\"Rates\":Rates},ignore_index=True)\n",
      "C:\\Users\\steff\\AppData\\Local\\Temp\\ipykernel_8416\\141033230.py:8: FutureWarning: The frame.append method is deprecated and will be removed from pandas in a future version. Use pandas.concat instead.\n",
      "  data = data.append({\"Currency\":Currency,\"Rates\":Rates},ignore_index=True)\n",
      "C:\\Users\\steff\\AppData\\Local\\Temp\\ipykernel_8416\\141033230.py:8: FutureWarning: The frame.append method is deprecated and will be removed from pandas in a future version. Use pandas.concat instead.\n",
      "  data = data.append({\"Currency\":Currency,\"Rates\":Rates},ignore_index=True)\n",
      "C:\\Users\\steff\\AppData\\Local\\Temp\\ipykernel_8416\\141033230.py:8: FutureWarning: The frame.append method is deprecated and will be removed from pandas in a future version. Use pandas.concat instead.\n",
      "  data = data.append({\"Currency\":Currency,\"Rates\":Rates},ignore_index=True)\n",
      "C:\\Users\\steff\\AppData\\Local\\Temp\\ipykernel_8416\\141033230.py:8: FutureWarning: The frame.append method is deprecated and will be removed from pandas in a future version. Use pandas.concat instead.\n",
      "  data = data.append({\"Currency\":Currency,\"Rates\":Rates},ignore_index=True)\n",
      "C:\\Users\\steff\\AppData\\Local\\Temp\\ipykernel_8416\\141033230.py:8: FutureWarning: The frame.append method is deprecated and will be removed from pandas in a future version. Use pandas.concat instead.\n",
      "  data = data.append({\"Currency\":Currency,\"Rates\":Rates},ignore_index=True)\n",
      "C:\\Users\\steff\\AppData\\Local\\Temp\\ipykernel_8416\\141033230.py:8: FutureWarning: The frame.append method is deprecated and will be removed from pandas in a future version. Use pandas.concat instead.\n",
      "  data = data.append({\"Currency\":Currency,\"Rates\":Rates},ignore_index=True)\n",
      "C:\\Users\\steff\\AppData\\Local\\Temp\\ipykernel_8416\\141033230.py:8: FutureWarning: The frame.append method is deprecated and will be removed from pandas in a future version. Use pandas.concat instead.\n",
      "  data = data.append({\"Currency\":Currency,\"Rates\":Rates},ignore_index=True)\n",
      "C:\\Users\\steff\\AppData\\Local\\Temp\\ipykernel_8416\\141033230.py:8: FutureWarning: The frame.append method is deprecated and will be removed from pandas in a future version. Use pandas.concat instead.\n",
      "  data = data.append({\"Currency\":Currency,\"Rates\":Rates},ignore_index=True)\n",
      "C:\\Users\\steff\\AppData\\Local\\Temp\\ipykernel_8416\\141033230.py:8: FutureWarning: The frame.append method is deprecated and will be removed from pandas in a future version. Use pandas.concat instead.\n",
      "  data = data.append({\"Currency\":Currency,\"Rates\":Rates},ignore_index=True)\n",
      "C:\\Users\\steff\\AppData\\Local\\Temp\\ipykernel_8416\\141033230.py:8: FutureWarning: The frame.append method is deprecated and will be removed from pandas in a future version. Use pandas.concat instead.\n",
      "  data = data.append({\"Currency\":Currency,\"Rates\":Rates},ignore_index=True)\n",
      "C:\\Users\\steff\\AppData\\Local\\Temp\\ipykernel_8416\\141033230.py:8: FutureWarning: The frame.append method is deprecated and will be removed from pandas in a future version. Use pandas.concat instead.\n",
      "  data = data.append({\"Currency\":Currency,\"Rates\":Rates},ignore_index=True)\n",
      "C:\\Users\\steff\\AppData\\Local\\Temp\\ipykernel_8416\\141033230.py:8: FutureWarning: The frame.append method is deprecated and will be removed from pandas in a future version. Use pandas.concat instead.\n",
      "  data = data.append({\"Currency\":Currency,\"Rates\":Rates},ignore_index=True)\n",
      "C:\\Users\\steff\\AppData\\Local\\Temp\\ipykernel_8416\\141033230.py:8: FutureWarning: The frame.append method is deprecated and will be removed from pandas in a future version. Use pandas.concat instead.\n",
      "  data = data.append({\"Currency\":Currency,\"Rates\":Rates},ignore_index=True)\n",
      "C:\\Users\\steff\\AppData\\Local\\Temp\\ipykernel_8416\\141033230.py:8: FutureWarning: The frame.append method is deprecated and will be removed from pandas in a future version. Use pandas.concat instead.\n",
      "  data = data.append({\"Currency\":Currency,\"Rates\":Rates},ignore_index=True)\n",
      "C:\\Users\\steff\\AppData\\Local\\Temp\\ipykernel_8416\\141033230.py:8: FutureWarning: The frame.append method is deprecated and will be removed from pandas in a future version. Use pandas.concat instead.\n",
      "  data = data.append({\"Currency\":Currency,\"Rates\":Rates},ignore_index=True)\n",
      "C:\\Users\\steff\\AppData\\Local\\Temp\\ipykernel_8416\\141033230.py:8: FutureWarning: The frame.append method is deprecated and will be removed from pandas in a future version. Use pandas.concat instead.\n",
      "  data = data.append({\"Currency\":Currency,\"Rates\":Rates},ignore_index=True)\n",
      "C:\\Users\\steff\\AppData\\Local\\Temp\\ipykernel_8416\\141033230.py:8: FutureWarning: The frame.append method is deprecated and will be removed from pandas in a future version. Use pandas.concat instead.\n",
      "  data = data.append({\"Currency\":Currency,\"Rates\":Rates},ignore_index=True)\n",
      "C:\\Users\\steff\\AppData\\Local\\Temp\\ipykernel_8416\\141033230.py:8: FutureWarning: The frame.append method is deprecated and will be removed from pandas in a future version. Use pandas.concat instead.\n",
      "  data = data.append({\"Currency\":Currency,\"Rates\":Rates},ignore_index=True)\n",
      "C:\\Users\\steff\\AppData\\Local\\Temp\\ipykernel_8416\\141033230.py:8: FutureWarning: The frame.append method is deprecated and will be removed from pandas in a future version. Use pandas.concat instead.\n",
      "  data = data.append({\"Currency\":Currency,\"Rates\":Rates},ignore_index=True)\n",
      "C:\\Users\\steff\\AppData\\Local\\Temp\\ipykernel_8416\\141033230.py:8: FutureWarning: The frame.append method is deprecated and will be removed from pandas in a future version. Use pandas.concat instead.\n",
      "  data = data.append({\"Currency\":Currency,\"Rates\":Rates},ignore_index=True)\n",
      "C:\\Users\\steff\\AppData\\Local\\Temp\\ipykernel_8416\\141033230.py:8: FutureWarning: The frame.append method is deprecated and will be removed from pandas in a future version. Use pandas.concat instead.\n",
      "  data = data.append({\"Currency\":Currency,\"Rates\":Rates},ignore_index=True)\n",
      "C:\\Users\\steff\\AppData\\Local\\Temp\\ipykernel_8416\\141033230.py:8: FutureWarning: The frame.append method is deprecated and will be removed from pandas in a future version. Use pandas.concat instead.\n",
      "  data = data.append({\"Currency\":Currency,\"Rates\":Rates},ignore_index=True)\n",
      "C:\\Users\\steff\\AppData\\Local\\Temp\\ipykernel_8416\\141033230.py:8: FutureWarning: The frame.append method is deprecated and will be removed from pandas in a future version. Use pandas.concat instead.\n",
      "  data = data.append({\"Currency\":Currency,\"Rates\":Rates},ignore_index=True)\n",
      "C:\\Users\\steff\\AppData\\Local\\Temp\\ipykernel_8416\\141033230.py:8: FutureWarning: The frame.append method is deprecated and will be removed from pandas in a future version. Use pandas.concat instead.\n",
      "  data = data.append({\"Currency\":Currency,\"Rates\":Rates},ignore_index=True)\n",
      "C:\\Users\\steff\\AppData\\Local\\Temp\\ipykernel_8416\\141033230.py:8: FutureWarning: The frame.append method is deprecated and will be removed from pandas in a future version. Use pandas.concat instead.\n",
      "  data = data.append({\"Currency\":Currency,\"Rates\":Rates},ignore_index=True)\n",
      "C:\\Users\\steff\\AppData\\Local\\Temp\\ipykernel_8416\\141033230.py:8: FutureWarning: The frame.append method is deprecated and will be removed from pandas in a future version. Use pandas.concat instead.\n",
      "  data = data.append({\"Currency\":Currency,\"Rates\":Rates},ignore_index=True)\n",
      "C:\\Users\\steff\\AppData\\Local\\Temp\\ipykernel_8416\\141033230.py:8: FutureWarning: The frame.append method is deprecated and will be removed from pandas in a future version. Use pandas.concat instead.\n",
      "  data = data.append({\"Currency\":Currency,\"Rates\":Rates},ignore_index=True)\n",
      "C:\\Users\\steff\\AppData\\Local\\Temp\\ipykernel_8416\\141033230.py:8: FutureWarning: The frame.append method is deprecated and will be removed from pandas in a future version. Use pandas.concat instead.\n",
      "  data = data.append({\"Currency\":Currency,\"Rates\":Rates},ignore_index=True)\n",
      "C:\\Users\\steff\\AppData\\Local\\Temp\\ipykernel_8416\\141033230.py:8: FutureWarning: The frame.append method is deprecated and will be removed from pandas in a future version. Use pandas.concat instead.\n",
      "  data = data.append({\"Currency\":Currency,\"Rates\":Rates},ignore_index=True)\n",
      "C:\\Users\\steff\\AppData\\Local\\Temp\\ipykernel_8416\\141033230.py:8: FutureWarning: The frame.append method is deprecated and will be removed from pandas in a future version. Use pandas.concat instead.\n",
      "  data = data.append({\"Currency\":Currency,\"Rates\":Rates},ignore_index=True)\n",
      "C:\\Users\\steff\\AppData\\Local\\Temp\\ipykernel_8416\\141033230.py:8: FutureWarning: The frame.append method is deprecated and will be removed from pandas in a future version. Use pandas.concat instead.\n",
      "  data = data.append({\"Currency\":Currency,\"Rates\":Rates},ignore_index=True)\n",
      "C:\\Users\\steff\\AppData\\Local\\Temp\\ipykernel_8416\\141033230.py:8: FutureWarning: The frame.append method is deprecated and will be removed from pandas in a future version. Use pandas.concat instead.\n",
      "  data = data.append({\"Currency\":Currency,\"Rates\":Rates},ignore_index=True)\n",
      "C:\\Users\\steff\\AppData\\Local\\Temp\\ipykernel_8416\\141033230.py:8: FutureWarning: The frame.append method is deprecated and will be removed from pandas in a future version. Use pandas.concat instead.\n",
      "  data = data.append({\"Currency\":Currency,\"Rates\":Rates},ignore_index=True)\n",
      "C:\\Users\\steff\\AppData\\Local\\Temp\\ipykernel_8416\\141033230.py:8: FutureWarning: The frame.append method is deprecated and will be removed from pandas in a future version. Use pandas.concat instead.\n",
      "  data = data.append({\"Currency\":Currency,\"Rates\":Rates},ignore_index=True)\n",
      "C:\\Users\\steff\\AppData\\Local\\Temp\\ipykernel_8416\\141033230.py:8: FutureWarning: The frame.append method is deprecated and will be removed from pandas in a future version. Use pandas.concat instead.\n",
      "  data = data.append({\"Currency\":Currency,\"Rates\":Rates},ignore_index=True)\n",
      "C:\\Users\\steff\\AppData\\Local\\Temp\\ipykernel_8416\\141033230.py:8: FutureWarning: The frame.append method is deprecated and will be removed from pandas in a future version. Use pandas.concat instead.\n",
      "  data = data.append({\"Currency\":Currency,\"Rates\":Rates},ignore_index=True)\n",
      "C:\\Users\\steff\\AppData\\Local\\Temp\\ipykernel_8416\\141033230.py:8: FutureWarning: The frame.append method is deprecated and will be removed from pandas in a future version. Use pandas.concat instead.\n",
      "  data = data.append({\"Currency\":Currency,\"Rates\":Rates},ignore_index=True)\n",
      "C:\\Users\\steff\\AppData\\Local\\Temp\\ipykernel_8416\\141033230.py:8: FutureWarning: The frame.append method is deprecated and will be removed from pandas in a future version. Use pandas.concat instead.\n",
      "  data = data.append({\"Currency\":Currency,\"Rates\":Rates},ignore_index=True)\n",
      "C:\\Users\\steff\\AppData\\Local\\Temp\\ipykernel_8416\\141033230.py:8: FutureWarning: The frame.append method is deprecated and will be removed from pandas in a future version. Use pandas.concat instead.\n",
      "  data = data.append({\"Currency\":Currency,\"Rates\":Rates},ignore_index=True)\n",
      "C:\\Users\\steff\\AppData\\Local\\Temp\\ipykernel_8416\\141033230.py:8: FutureWarning: The frame.append method is deprecated and will be removed from pandas in a future version. Use pandas.concat instead.\n",
      "  data = data.append({\"Currency\":Currency,\"Rates\":Rates},ignore_index=True)\n",
      "C:\\Users\\steff\\AppData\\Local\\Temp\\ipykernel_8416\\141033230.py:8: FutureWarning: The frame.append method is deprecated and will be removed from pandas in a future version. Use pandas.concat instead.\n",
      "  data = data.append({\"Currency\":Currency,\"Rates\":Rates},ignore_index=True)\n",
      "C:\\Users\\steff\\AppData\\Local\\Temp\\ipykernel_8416\\141033230.py:8: FutureWarning: The frame.append method is deprecated and will be removed from pandas in a future version. Use pandas.concat instead.\n",
      "  data = data.append({\"Currency\":Currency,\"Rates\":Rates},ignore_index=True)\n",
      "C:\\Users\\steff\\AppData\\Local\\Temp\\ipykernel_8416\\141033230.py:8: FutureWarning: The frame.append method is deprecated and will be removed from pandas in a future version. Use pandas.concat instead.\n",
      "  data = data.append({\"Currency\":Currency,\"Rates\":Rates},ignore_index=True)\n",
      "C:\\Users\\steff\\AppData\\Local\\Temp\\ipykernel_8416\\141033230.py:8: FutureWarning: The frame.append method is deprecated and will be removed from pandas in a future version. Use pandas.concat instead.\n",
      "  data = data.append({\"Currency\":Currency,\"Rates\":Rates},ignore_index=True)\n"
     ]
    },
    {
     "data": {
      "text/plain": [
       "pandas.core.frame.DataFrame"
      ]
     },
     "execution_count": 8,
     "metadata": {},
     "output_type": "execute_result"
    }
   ],
   "source": [
    "# Turn the data into a dataframe\n",
    "data = pd.DataFrame(columns = [\"Currency\",\"Rates\"])\n",
    "\n",
    "for row in data_text:\n",
    "    col = row.split(\":\")\n",
    "    Currency = col[0].strip()[1:-1]\n",
    "    Rates = col[1].replace(\",\",\"\")\n",
    "    data = pd.concat({\"Currency\":Currency,\"Rates\":Rates},ignore_index=True)\n",
    "    \n",
    "data.set_index('Currency',inplace=True)\n",
    "type(data)"
   ]
  },
  {
   "cell_type": "markdown",
   "metadata": {},
   "source": [
    "### Load the Data\n",
    "\n",
    "Using the dataframe save it as a CSV names `exchange_rates_1.csv`.\n"
   ]
  },
  {
   "cell_type": "code",
   "execution_count": 9,
   "metadata": {},
   "outputs": [],
   "source": [
    "# Save the Dataframe\n",
    "data.to_csv('exchange_rates_1.csv')"
   ]
  },
  {
   "cell_type": "markdown",
   "metadata": {},
   "source": [
    "Your CSV should be in this format with more currencies\n",
    "\n",
    "|     | Rates      |\n",
    "| --- | ---------- |\n",
    "| AED | 4.398618   |\n",
    "| AFN | 92.917693  |\n",
    "| ALL | 123.099093 |\n",
    "| AMD | 621.935674 |\n",
    "| ANG | 2.149648   |\n"
   ]
  },
  {
   "cell_type": "markdown",
   "metadata": {},
   "source": [
    "## Authors\n"
   ]
  },
  {
   "cell_type": "markdown",
   "metadata": {},
   "source": [
    "Ramesh Sannareddy, Joseph Santarcangelo and Azim Hirjani\n"
   ]
  },
  {
   "cell_type": "markdown",
   "metadata": {},
   "source": [
    "### Other Contributors\n"
   ]
  },
  {
   "cell_type": "markdown",
   "metadata": {},
   "source": [
    "Rav Ahuja\n"
   ]
  },
  {
   "cell_type": "markdown",
   "metadata": {},
   "source": [
    "## Change Log\n"
   ]
  },
  {
   "cell_type": "markdown",
   "metadata": {},
   "source": [
    "| Date (YYYY-MM-DD) | Version | Changed By        | Change Description                              |\n",
    "| ----------------- | ------- | ----------------- | ----------------------------------------------- |\n",
    "| 2022-05-06        | 0.3     | Malika            | Updated instructions to get the API and the url |\n",
    "| 2021-04-15        | 0.2     | Malika            | Updated the lab from USD to EUR                 |\n",
    "| 2020-11-25        | 0.1     | Ramesh Sannareddy | Created initial version of the lab              |\n"
   ]
  },
  {
   "cell_type": "markdown",
   "metadata": {},
   "source": [
    "Copyright © 2020 IBM Corporation. This notebook and its source code are released under the terms of the [MIT License](https://cognitiveclass.ai/mit-license?utm_medium=Exinfluencer&utm_source=Exinfluencer&utm_content=000026UJ&utm_term=10006555&utm_id=NA-SkillsNetwork-Channel-SkillsNetworkCoursesIBMDeveloperSkillsNetworkPY0221ENSkillsNetwork23455645-2022-01-01&cm_mmc=Email_Newsletter-\\_-Developer_Ed%2BTech-\\_-WW_WW-\\_-SkillsNetwork-Courses-IBM-DA0321EN-SkillsNetwork-21426264&cm_mmca1=000026UJ&cm_mmca2=10006555&cm_mmca3=M12345678&cvosrc=email.Newsletter.M12345678&cvo_campaign=000026UJ).\n"
   ]
  }
 ],
 "metadata": {
  "kernelspec": {
   "display_name": "Python 3 (ipykernel)",
   "language": "python",
   "name": "python3"
  },
  "language_info": {
   "codemirror_mode": {
    "name": "ipython",
    "version": 3
   },
   "file_extension": ".py",
   "mimetype": "text/x-python",
   "name": "python",
   "nbconvert_exporter": "python",
   "pygments_lexer": "ipython3",
   "version": "3.9.16"
  }
 },
 "nbformat": 4,
 "nbformat_minor": 4
}
